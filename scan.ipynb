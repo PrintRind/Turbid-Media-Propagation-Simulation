{
 "cells": [
  {
   "cell_type": "code",
   "execution_count": 1,
   "metadata": {},
   "outputs": [],
   "source": [
    "def scan(u, E_0, sample, grating_spacing_in, stepsize_in, FOV_in):\n",
    "    '''Steps beam propagated through 'sample' across grating with spacing 'grating_spacing' with a step size 'stepsize' and field of view FOV in units of pixels.''' \n",
    "    \n",
    "    from grating1D import grating1D\n",
    "    from fun_propagate import fun_propagate\n",
    "    import numpy as np\n",
    "    N = sample.shape\n",
    "    x=np.arange(-N[1]/2,N[1]/2)*u[1]\n",
    "    grating = np.fft.fftshift(grating1D(grating_spacing_in, x, u)) #create sample grating with spacing grating_spacing in units of pixels\n",
    "    m = int(stepsize_in)  #size of steps during beam scan\n",
    "    num_steps = int(FOV_in/m) #number of steps in image\n",
    "    offset=int(-FOV_in/2)\n",
    "    lines = np.zeros((num_steps, N[1])) #make array to hold each line of the scan \n",
    "    for q in range(num_steps):  #loop to step beam and add up intensities\n",
    "        E = fun_propagate(u,E_0,np.roll(sample,offset+q*m,axis=1))  #calculate electric field at focus modulated by sample\n",
    "        lines[q,:] = abs(E[-1,:])**4*np.roll(grating,offset+q*m)\n",
    "   \n",
    "    image=np.sum(lines,1)\n",
    "    return image"
   ]
  }
 ],
 "metadata": {
  "kernelspec": {
   "display_name": "Python 3",
   "language": "python",
   "name": "python3"
  },
  "language_info": {
   "codemirror_mode": {
    "name": "ipython",
    "version": 3
   },
   "file_extension": ".py",
   "mimetype": "text/x-python",
   "name": "python",
   "nbconvert_exporter": "python",
   "pygments_lexer": "ipython3",
   "version": "3.6.4"
  }
 },
 "nbformat": 4,
 "nbformat_minor": 2
}
