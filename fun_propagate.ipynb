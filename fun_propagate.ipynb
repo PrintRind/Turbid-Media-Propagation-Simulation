{
 "cells": [
  {
   "cell_type": "code",
   "execution_count": null,
   "metadata": {},
   "outputs": [],
   "source": [
    "def fun_propagate(u,E_in,sample):\n",
    "    \n",
    "    import numpy as np\n",
    "    RI=np.unique(sample) \n",
    "    N=sample.shape       #size of sample (and field)\n",
    "    E=np.zeros(N,dtype='complex') #initializing field \n",
    "    Ek=np.zeros((len(RI),N[1]),dtype='complex') #init.\n",
    "    mask=np.zeros((len(RI),N[0],N[1])) #initializing mask\n",
    "    E[0,:]=E_in \n",
    "    \n",
    "    uk=2*np.pi/u/N   #increment in frequency-space is 1/(size of grid in x-space); increment in k-space is 2*pi/(size of grid in x-space)\n",
    "    kx=np.arange(-N[1]/2,N[1]/2)*uk[1] \n",
    "    k = 2 * np.pi * RI/1.33 # k-vectors of light that traverses the different refractive indices, not accounting for objective NA here\n",
    "    \n",
    "    #defining propagator for each refractive index \n",
    "    prop = np.zeros((len(RI), N[1]), dtype='complex')  # initializing propagators\n",
    "    for q in range(len(RI)):\n",
    "        prop[q, :] = np.fft.ifftshift(np.exp(1j * u[0] * np.sqrt(0j+k[q] ** 2 - kx ** 2)))\n",
    "    \n",
    "    #constructing binary masks for every RI\n",
    "    for q in range(len(RI)):\n",
    "        mask[q,:,:]=sample==RI[q] \n",
    "    \n",
    "    #propagation loop\n",
    "    for m in range(N[0]-1):\n",
    "        \n",
    "        for q in range(len(RI)):\n",
    "            Ek[q,:]=np.fft.fft(E[m,:]*mask[q,m,:])*prop[q,:]  #for each RI: transform field to k-space and multiply with correct propagator\n",
    "    \n",
    "        E[m+1,:]=np.fft.ifft(sum(Ek,0)) #calculate next depth-slice of field\n",
    "    \n",
    "    return E"
   ]
  }
 ],
 "metadata": {
  "kernelspec": {
   "display_name": "Python 3",
   "language": "python",
   "name": "python3"
  },
  "language_info": {
   "codemirror_mode": {
    "name": "ipython",
    "version": 3
   },
   "file_extension": ".py",
   "mimetype": "text/x-python",
   "name": "python",
   "nbconvert_exporter": "python",
   "pygments_lexer": "ipython3",
   "version": "3.6.4"
  }
 },
 "nbformat": 4,
 "nbformat_minor": 2
}
