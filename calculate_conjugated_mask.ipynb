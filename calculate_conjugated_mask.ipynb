{
 "cells": [
  {
   "cell_type": "code",
   "execution_count": null,
   "metadata": {},
   "outputs": [],
   "source": [
    "def calculate_conjugated_mask(u, z_conj, sample, FOV, stepsize_in):\n",
    "    '''calculate the correction field for the many image points \n",
    "    and average them to create a conjugated correction mask'''\n",
    "    \n",
    "    import numpy as np\n",
    "    from fun_propagate import fun_propagate\n",
    "    from input_wavefront import input_wavefront\n",
    "    \n",
    "    NA = 0.5\n",
    "    N = sample.shape\n",
    "    num_steps = int(FOV/stepsize_in)\n",
    "    E_conj_corr = np.zeros([num_steps,N[1]], dtype='complex')\n",
    "    #shift center of sample\n",
    "    offset=int(-FOV/2)\n",
    "    #create clear sample\n",
    "    sample_clear=np.ones(sample.shape)*1.33\n",
    "    #create spherical input wavefront\n",
    "    E_0, phase, amp = input_wavefront(NA, N, u)\n",
    "    #create guide star field\n",
    "    E_gs=fun_propagate(u,E_0,sample_clear) \n",
    "    \n",
    "    for i in range(num_steps):\n",
    "        #first propagate guidestar at this sample position\n",
    "        E1=fun_propagate(u,np.conj(E_gs[-1,:]),np.roll(np.flip(sample,0),offset+i*int(stepsize_in),axis=1))\n",
    "        #now propagate back through a clear sample to get the correction field for a single imaging point\n",
    "        E2 = fun_propagate(u, np.conj(E1[-1,:]), sample_clear[0:z_conj,:])\n",
    "        E_conj_corr[i,:] = E2[-1,:]\n",
    "    \n",
    "    E_corr = np.average(E_conj_corr, 0)\n",
    "    return E_corr"
   ]
  }
 ],
 "metadata": {
  "kernelspec": {
   "display_name": "Python 3",
   "language": "python",
   "name": "python3"
  },
  "language_info": {
   "codemirror_mode": {
    "name": "ipython",
    "version": 3
   },
   "file_extension": ".py",
   "mimetype": "text/x-python",
   "name": "python",
   "nbconvert_exporter": "python",
   "pygments_lexer": "ipython3",
   "version": "3.6.4"
  }
 },
 "nbformat": 4,
 "nbformat_minor": 2
}
