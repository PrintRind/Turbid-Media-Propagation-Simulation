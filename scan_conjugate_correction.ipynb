{
 "cells": [
  {
   "cell_type": "code",
   "execution_count": 1,
   "metadata": {},
   "outputs": [],
   "source": [
    "def scan_conjugate_correction(u, sample, conj_mask, z_conj, grating_spacing_in, stepsize_in, FOV_in):\n",
    "    '''to apply the correction, we let the uncorrected beam propagate to the conjugate plane,\n",
    "    apply the correction phase mask, and then to the sample'''\n",
    "    \n",
    "    from grating1D import grating1D\n",
    "    from fun_propagate import fun_propagate\n",
    "    from input_wavefront import input_wavefront\n",
    "    import numpy as np\n",
    "    NA = 0.5\n",
    "    N = sample.shape\n",
    "    #make spherical input wavefront\n",
    "    E_0, phase, amp = input_wavefront(NA, N, u)\n",
    "    #define x axis\n",
    "    x=np.arange(-N[1]/2,N[1]/2)*u[1]\n",
    "    #define grating\n",
    "    grating = np.fft.fftshift(grating1D(grating_spacing_in, x, u)) \n",
    "    #size of steps during beam scan\n",
    "    m = int(stepsize_in)  \n",
    "    #number of steps in image\n",
    "    num_steps = int(FOV_in/m) \n",
    "    offset=int(-FOV_in/2)\n",
    "    #initialize array to hold 2 photon intensities for each line of the scan \n",
    "    lines = np.zeros((num_steps, N[1])) \n",
    "    #loop to step beam across sample\n",
    "    for q in range(num_steps):  \n",
    "        #calculate electric field at conjugate plane\n",
    "        E = fun_propagate(u,E_0,np.roll(sample[0:z_conj,:],offset+q*m,axis=1))  \n",
    "        #apply AO mask at conjugate plane\n",
    "        E1 = abs(E[-1,:])*np.roll(conj_mask,offset+q*m)/abs(np.roll(conj_mask,offset+q*m))  \n",
    "        #finish propagating to sample\n",
    "        E2 = fun_propagate(u,E1,np.roll(sample[z_conj:,:],offset+q*m,axis=1))  \n",
    "        #calculate 2 photon intensity on grating\n",
    "        lines[q,:] = abs(E2[-1,:])**4*np.roll(grating,offset+q*m)  \n",
    "   \n",
    "    image=np.sum(lines,1)\n",
    "    return image"
   ]
  },
  {
   "cell_type": "code",
   "execution_count": null,
   "metadata": {},
   "outputs": [],
   "source": []
  }
 ],
 "metadata": {
  "kernelspec": {
   "display_name": "Python 3",
   "language": "python",
   "name": "python3"
  },
  "language_info": {
   "codemirror_mode": {
    "name": "ipython",
    "version": 3
   },
   "file_extension": ".py",
   "mimetype": "text/x-python",
   "name": "python",
   "nbconvert_exporter": "python",
   "pygments_lexer": "ipython3",
   "version": "3.6.4"
  }
 },
 "nbformat": 4,
 "nbformat_minor": 2
}
