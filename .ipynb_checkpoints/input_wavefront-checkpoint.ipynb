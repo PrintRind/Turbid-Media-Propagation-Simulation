{
 "cells": [
  {
   "cell_type": "code",
   "execution_count": 15,
   "metadata": {},
   "outputs": [],
   "source": [
    "def input_wavefront(NA, N, u):\n",
    "    '''defining input wavefront: a spherical, converging wave; inputs:'''\n",
    "    \"NA....numerical aperture\"\n",
    "    \"N...size of grid in pixels ([z-direction, x-direction])\"\n",
    "    \"u...units [z, x]\"\n",
    "    \n",
    "    import numpy as np\n",
    "    x=np.arange(-N[1]/2,N[1]/2)*u[1]\n",
    "    NA_geo=NA/1.33 #geometric NA of our objective lens\n",
    "    # phase\n",
    "    R=N[0]*u[0] #radius of curvature; define it such that focus lies at last layer\n",
    "    phase = 2*np.pi*(np.sqrt(0j+R**2-x**2)-R)  # spherical phase\n",
    "    # amplitude\n",
    "    amp0=np.abs(x)<R*NA_geo #wave amplitude is 1 for x less than R*NA_geo, didn't know this function of the < operator\n",
    "    sigma_amp=1 #we filter the amplitude a bit to make the edges less sharp\n",
    "    amp_filter=np.exp(-x**2/sigma_amp**2)\n",
    "    F_amp0=np.real(np.fft.fftshift(np.fft.fft(np.fft.ifftshift(amp0))))\n",
    "    amp=np.real(np.fft.fftshift(np.fft.ifft(np.fft.ifftshift(F_amp0*amp_filter))))\n",
    "    #full wavefront\n",
    "    E=np.zeros(N,dtype='complex') #initializing field \n",
    "    E_in=np.fft.ifftshift(amp*np.exp(1j*phase))  #already apply ifftshift (loop later is faster)\n",
    "    \n",
    "    return E_in, phase, amp\n"
   ]
  }
 ],
 "metadata": {
  "kernelspec": {
   "display_name": "Python 3",
   "language": "python",
   "name": "python3"
  },
  "language_info": {
   "codemirror_mode": {
    "name": "ipython",
    "version": 3
   },
   "file_extension": ".py",
   "mimetype": "text/x-python",
   "name": "python",
   "nbconvert_exporter": "python",
   "pygments_lexer": "ipython3",
   "version": "3.7.6"
  }
 },
 "nbformat": 4,
 "nbformat_minor": 2
}
